{
 "cells": [
  {
   "cell_type": "code",
   "execution_count": 35,
   "metadata": {
    "collapsed": true
   },
   "outputs": [],
   "source": [
    "from src.processors.text_formatter import TextPreProcessor"
   ]
  },
  {
   "cell_type": "code",
   "execution_count": 36,
   "outputs": [],
   "source": [
    "regex_partners = [\"https?://\\S+\"]\n",
    "entities = [\"@\",\"#\"]\n"
   ],
   "metadata": {
    "collapsed": false
   }
  },
  {
   "cell_type": "code",
   "execution_count": 37,
   "outputs": [],
   "source": [
    "positive_emojis = [\"😀\", \"😃\", \"😂\", \"🤣\", \"😊\", \"😍\"]   # Positive emoji\n",
    "negative_emojis = [\"😞\", \"😠\", \"😩\", \"😢\", \"😭\", \"😒\"]\n",
    "# Negative emoji\n",
    "\n",
    "positive_emoji_patterns = [[{\"ORTH\": emoji}] for emoji in positive_emojis]\n",
    "negative_emoji_patterns = [[{\"ORTH\": emoji}] for emoji in negative_emojis]\n",
    "\n",
    "dict_pattern = {\n",
    "    \"POSITIVE_EMOJI\" : positive_emoji_patterns,\n",
    "    \"NEGATIVE_EMOJI\" : negative_emoji_patterns,\n",
    "}"
   ],
   "metadata": {
    "collapsed": false
   }
  },
  {
   "cell_type": "code",
   "execution_count": 38,
   "outputs": [],
   "source": [
    "text_cleaner = TextPreProcessor(regex_partners,entities,dict_pattern)"
   ],
   "metadata": {
    "collapsed": false
   }
  },
  {
   "cell_type": "code",
   "execution_count": 39,
   "outputs": [],
   "source": [
    "tweet_exemple = \"Quem combate #monstruosidades 😢 deve @cuidar para que não se torne um #monstro. E se @você olhar #longamente para um abismo 😍 , o abismo também olha 😃 para dentro de você. https://pt.wikiquote.org/wiki/Al%C3%A9m_do_Bem_e_do_Mal\""
   ],
   "metadata": {
    "collapsed": false
   }
  },
  {
   "cell_type": "code",
   "execution_count": 40,
   "outputs": [
    {
     "name": "stdout",
     "output_type": "stream",
     "text": [
      "Quem combate #monstruosidades 😢 deve @cuidar para que não se torne um #monstro. E se @você olhar #longamente para um abismo 😍 , o abismo também olha 😃 para dentro de você.\n"
     ]
    }
   ],
   "source": [
    "tweet_exemple = text_cleaner.strip_links(tweet_exemple)\n",
    "print(tweet_exemple)"
   ],
   "metadata": {
    "collapsed": false
   }
  },
  {
   "cell_type": "code",
   "execution_count": 41,
   "outputs": [
    {
     "name": "stdout",
     "output_type": "stream",
     "text": [
      "Quem combate 😢 deve para que não se torne um E se olhar para um abismo 😍 , o abismo também olha 😃 para dentro de você.\n"
     ]
    }
   ],
   "source": [
    "tweet_exemple = text_cleaner.strip_all_entities(tweet_exemple)\n",
    "print(tweet_exemple)"
   ],
   "metadata": {
    "collapsed": false
   }
  },
  {
   "cell_type": "code",
   "execution_count": 42,
   "outputs": [
    {
     "name": "stdout",
     "output_type": "stream",
     "text": [
      "Quem combate 😢 deve para que não se torne um E se olhar para um abismo 😍 o abismo também olha 😃 para dentro de você\n"
     ]
    }
   ],
   "source": [
    "tweet_exemple = text_cleaner.remove_punctuation(tweet_exemple)\n",
    "print(tweet_exemple)"
   ],
   "metadata": {
    "collapsed": false
   }
  },
  {
   "cell_type": "code",
   "execution_count": 43,
   "outputs": [
    {
     "name": "stdout",
     "output_type": "stream",
     "text": [
      "combate 😢 torne olhar abismo 😍 abismo olha 😃\n"
     ]
    }
   ],
   "source": [
    "tweet_exemple = text_cleaner.remove_stopwords(tweet_exemple)\n",
    "print(tweet_exemple)"
   ],
   "metadata": {
    "collapsed": false
   }
  },
  {
   "cell_type": "code",
   "execution_count": 44,
   "outputs": [
    {
     "name": "stdout",
     "output_type": "stream",
     "text": [
      "combate 😢 tornar olhar abismo 😍 abismo olhar 😃\n"
     ]
    }
   ],
   "source": [
    "tweet_exemple = text_cleaner.lemmatization(tweet_exemple)\n",
    "print(tweet_exemple)"
   ],
   "metadata": {
    "collapsed": false
   }
  },
  {
   "cell_type": "code",
   "execution_count": 45,
   "outputs": [
    {
     "name": "stdout",
     "output_type": "stream",
     "text": [
      "combate tornar olhar abismo abismo olhar\n"
     ]
    }
   ],
   "source": [
    "tweet_exemple = text_cleaner.remove_emoji(tweet_exemple)\n",
    "print(tweet_exemple)"
   ],
   "metadata": {
    "collapsed": false
   }
  },
  {
   "cell_type": "code",
   "execution_count": 46,
   "outputs": [
    {
     "name": "stdout",
     "output_type": "stream",
     "text": [
      "combate NEGATIVE_EMOJI tornar olhar abismo POSITIVE_EMOJI abismo olhar POSITIVE_EMOJI\n"
     ]
    }
   ],
   "source": [
    "tweet_exemple = \"combate 😢 tornar olhar abismo 😍 abismo olhar 😃\"\n",
    "tweet_exemple = text_cleaner.replace_matches(tweet_exemple)\n",
    "print(tweet_exemple)"
   ],
   "metadata": {
    "collapsed": false
   }
  },
  {
   "cell_type": "code",
   "execution_count": 46,
   "outputs": [],
   "source": [],
   "metadata": {
    "collapsed": false
   }
  }
 ],
 "metadata": {
  "kernelspec": {
   "display_name": "Python 3",
   "language": "python",
   "name": "python3"
  },
  "language_info": {
   "codemirror_mode": {
    "name": "ipython",
    "version": 2
   },
   "file_extension": ".py",
   "mimetype": "text/x-python",
   "name": "python",
   "nbconvert_exporter": "python",
   "pygments_lexer": "ipython2",
   "version": "2.7.6"
  }
 },
 "nbformat": 4,
 "nbformat_minor": 0
}
