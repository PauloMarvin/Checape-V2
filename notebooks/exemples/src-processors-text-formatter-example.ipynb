{
 "cells": [
  {
   "cell_type": "code",
   "execution_count": 1,
   "metadata": {
    "collapsed": true,
    "ExecuteTime": {
     "start_time": "2023-04-03T12:49:05.569705Z",
     "end_time": "2023-04-03T12:49:16.032039Z"
    }
   },
   "outputs": [],
   "source": [
    "from src.processors.text_formatter import TextPreProcessor\n"
   ]
  },
  {
   "cell_type": "code",
   "execution_count": 2,
   "outputs": [
    {
     "name": "stdout",
     "output_type": "stream",
     "text": [
      "{'POSITIVE_EMOJI': [[{'ORTH': '😀'}], [{'ORTH': '😃'}], [{'ORTH': '😂'}], [{'ORTH': '🤣'}], [{'ORTH': '😊'}], [{'ORTH': '😍'}]], 'NEGATIVE_EMOJI': [[{'ORTH': '😞'}], [{'ORTH': '😠'}], [{'ORTH': '😩'}], [{'ORTH': '😢'}], [{'ORTH': '😭'}], [{'ORTH': '😒'}]]}\n"
     ]
    }
   ],
   "source": [
    "positive_emojis = [\"😀\", \"😃\", \"😂\", \"🤣\", \"😊\", \"😍\"]\n",
    "negative_emojis = [\"😞\", \"😠\", \"😩\", \"😢\", \"😭\", \"😒\"]\n",
    "\n",
    "positive_emoji_patterns = [[{\"ORTH\": emoji}] for emoji in positive_emojis]\n",
    "negative_emoji_patterns = [[{\"ORTH\": emoji}] for emoji in negative_emojis]\n",
    "dict_pattern = {\n",
    "    \"POSITIVE_EMOJI\": positive_emoji_patterns,\n",
    "    \"NEGATIVE_EMOJI\": negative_emoji_patterns,\n",
    "}\n",
    "\n",
    "print(dict_pattern)"
   ],
   "metadata": {
    "collapsed": false,
    "ExecuteTime": {
     "start_time": "2023-04-03T12:49:16.032039Z",
     "end_time": "2023-04-03T12:49:16.049037Z"
    }
   }
  },
  {
   "cell_type": "code",
   "execution_count": 3,
   "outputs": [],
   "source": [
    "tweets_raw = [\n",
    "    \"Quem combate: #monstruosidades kkkkkkkk 😢 deve @cuidar para que não se torne um #monstro. E se @você olhar #longamente para um abismo 😍 , o abismo também olha 😃 para dentro de você. https://pt.wikiquote.org/wiki/Al%C3%A9m_do_Bem_e_do_Mal\",\n",
    "    \"😀😃😂🤣😊😍😞😠😩😢😭😒 Como você está? seria bom se você www.google.com estivesse bem. porém, se você estivesse mal, eu estaria aqui para te ajudar google.com.\"]"
   ],
   "metadata": {
    "collapsed": false,
    "ExecuteTime": {
     "start_time": "2023-04-03T12:49:16.047040Z",
     "end_time": "2023-04-03T12:49:16.092036Z"
    }
   }
  },
  {
   "cell_type": "code",
   "execution_count": 4,
   "outputs": [
    {
     "name": "stdout",
     "output_type": "stream",
     "text": [
      "['Quem combate monstruosidades kkkkkkkk 😢 deve @cuidar para que não se torne um monstro E se @você olhar longamente para um abismo 😍 o abismo também olha 😃 para dentro de você https://pt.wikiquote.org/wiki/Al%C3%A9m_do_Bem_e_do_Mal', '😀 😃 😂 🤣 😊 😍 😞 😠 😩 😢 😭 😒 Como você está seria bom se você www.google.com estivesse bem porém se você estivesse mal eu estaria aqui para te ajudar google.com']\n"
     ]
    }
   ],
   "source": [
    "tweets = TextPreProcessor.remove_punctuation_corpus(tweets_raw)\n",
    "print(tweets)"
   ],
   "metadata": {
    "collapsed": false,
    "ExecuteTime": {
     "start_time": "2023-04-03T12:49:16.062037Z",
     "end_time": "2023-04-03T12:49:16.093038Z"
    }
   }
  },
  {
   "cell_type": "code",
   "execution_count": 5,
   "outputs": [
    {
     "name": "stdout",
     "output_type": "stream",
     "text": [
      "['quem combate: #monstruosidades kkkkkkkk 😢 deve @cuidar para que não se torne um #monstro. e se @você olhar #longamente para um abismo 😍 , o abismo também olha 😃 para dentro de você. https://pt.wikiquote.org/wiki/al%c3%a9m_do_bem_e_do_mal', '😀😃😂🤣😊😍😞😠😩😢😭😒 como você está? seria bom se você www.google.com estivesse bem. porém, se você estivesse mal, eu estaria aqui para te ajudar google.com.']\n"
     ]
    }
   ],
   "source": [
    "tweets = TextPreProcessor.lower_text_corpus(tweets_raw)\n",
    "print(tweets)"
   ],
   "metadata": {
    "collapsed": false,
    "ExecuteTime": {
     "start_time": "2023-04-03T12:49:16.079037Z",
     "end_time": "2023-04-03T12:49:16.106036Z"
    }
   }
  },
  {
   "cell_type": "code",
   "execution_count": 6,
   "outputs": [
    {
     "name": "stdout",
     "output_type": "stream",
     "text": [
      "['Quem combate: #monstruosidades kkkkkkkk 😢 deve @cuidar para que não se torne um #monstro. E se @você olhar #longamente para um abismo 😍 , o abismo também olha 😃 para dentro de você.', '😀😃😂🤣😊😍😞😠😩😢😭😒 Como você está? seria bom se você estivesse bem. porém, se você estivesse mal, eu estaria aqui para te ajudar']\n"
     ]
    }
   ],
   "source": [
    "tweets = TextPreProcessor.remove_with_regex_corpus(tweets_raw, [\"(?:https?://)?(?:www\\.)?[\\w-]+\\.[\\w.-]+[^\\s]*\"])\n",
    "print(tweets)"
   ],
   "metadata": {
    "collapsed": false,
    "ExecuteTime": {
     "start_time": "2023-04-03T12:49:16.095037Z",
     "end_time": "2023-04-03T12:49:16.118037Z"
    }
   }
  },
  {
   "cell_type": "code",
   "execution_count": 7,
   "outputs": [
    {
     "name": "stdout",
     "output_type": "stream",
     "text": [
      "['Quem combate: kkkkkkkk 😢 deve para que não se torne um E se olhar para um abismo 😍 , o abismo também olha 😃 para dentro de você. https://pt.wikiquote.org/wiki/Al%C3%A9m_do_Bem_e_do_Mal', '😀😃😂🤣😊😍😞😠😩😢😭😒 Como você está? seria bom se você www.google.com estivesse bem. porém, se você estivesse mal, eu estaria aqui para te ajudar google.com.']\n"
     ]
    }
   ],
   "source": [
    "tweets = TextPreProcessor.remove_with_prefixes_corpus(tweets_raw, [\"@\", \"#\"])\n",
    "print(tweets)"
   ],
   "metadata": {
    "collapsed": false,
    "ExecuteTime": {
     "start_time": "2023-04-03T12:49:16.109038Z",
     "end_time": "2023-04-03T12:49:16.186594Z"
    }
   }
  },
  {
   "cell_type": "code",
   "execution_count": 8,
   "outputs": [
    {
     "name": "stdout",
     "output_type": "stream",
     "text": [
      "['combate : # monstruosidades kkkkkkkk 😢 @cuidar torne # monstro . @você olhar # longamente abismo 😍 , abismo olha 😃 . https://pt.wikiquote.org/wiki/Al%C3%A9m_do_Bem_e_do_Mal', '😀 😃 😂 🤣 😊 😍 😞 😠 😩 😢 😭 😒 ? www.google.com estivesse . , estivesse , estaria ajudar google.com .']\n"
     ]
    }
   ],
   "source": [
    "tweets = TextPreProcessor.remove_stopwords_corpus(tweets_raw)\n",
    "print(tweets)"
   ],
   "metadata": {
    "collapsed": false,
    "ExecuteTime": {
     "start_time": "2023-04-03T12:49:16.125037Z",
     "end_time": "2023-04-03T12:49:16.201613Z"
    }
   }
  },
  {
   "cell_type": "code",
   "execution_count": 9,
   "outputs": [
    {
     "name": "stdout",
     "output_type": "stream",
     "text": [
      "['quem combate : # monstruosidade kkkkkkkk 😢 dever @cuidar para que não se tornar um # monstro . e se @você olhar # longamente para um abismo 😍 , o abismo também olhar 😃 para dentro de você . https://pt.wikiquote.org/wiki/Al%C3%A9m_do_Bem_e_do_Mal', '😀 😃 😂 🤣 😊 😍 😞 😠 😩 😢 😭 😒 como você estar ? ser bom se você Www.google.com estar bem . porém , se você estar mal , eu estar aqui para te ajudar google.com .']\n"
     ]
    }
   ],
   "source": [
    "tweets = TextPreProcessor.lemmatization_corpus(tweets_raw)\n",
    "print(tweets)"
   ],
   "metadata": {
    "collapsed": false,
    "ExecuteTime": {
     "start_time": "2023-04-03T12:49:16.141039Z",
     "end_time": "2023-04-03T12:49:16.201613Z"
    }
   }
  },
  {
   "cell_type": "code",
   "execution_count": 10,
   "outputs": [
    {
     "name": "stdout",
     "output_type": "stream",
     "text": [
      "['Quem combate: #monstruosidades kkkkkkkk 😢 deve @cuidar para que não se torne um #monstro. E se @você olhar #longamente para um abismo 😍 , o abismo também olha 😃 para dentro de você. https://pt.wikiquote.org/wiki/Al%C3%A9m_do_Bem_e_do_Mal', '😀😃😂🤣😊😍😞😠😩😢😭😒 Como você está? seria bom se você www.google.com estivesse bem. porém, se você estivesse mal, eu estaria aqui para te ajudar google.com.']\n",
      "------------------------------------------------\n",
      "['qu combate: #monstruos kkkkkkkk 😢 dev @cuid par que não se torn um #monstro. e se @voc olh #long par um abism 😍 , o abism também olh 😃 par dentr de você. https://pt.wikiquote.org/wiki/al%c3%a9m_do_bem_e_do_m', '😀😃😂🤣😊😍😞😠😩😢😭😒 com voc está? ser bom se voc www.google.com estiv bem. porém, se voc estiv mal, eu est aqu par te ajud google.com.']\n"
     ]
    }
   ],
   "source": [
    "tweets = TextPreProcessor.steaming_corpus(tweets_raw)\n",
    "print(tweets_raw)\n",
    "print(\"------------------------------------------------\")\n",
    "print(tweets)"
   ],
   "metadata": {
    "collapsed": false,
    "ExecuteTime": {
     "start_time": "2023-04-03T12:49:16.157037Z",
     "end_time": "2023-04-03T12:49:16.202612Z"
    }
   }
  },
  {
   "cell_type": "code",
   "execution_count": 11,
   "outputs": [
    {
     "name": "stdout",
     "output_type": "stream",
     "text": [
      "['Quem combate : # monstruosidades kkkkkkkk deve @cuidar para que não se torne um # monstro . E se @você olhar # longamente para um abismo , o abismo também olha para dentro de você . https://pt.wikiquote.org/wiki/Al%C3%A9m_do_Bem_e_do_Mal', 'Como você está ? seria bom se você www.google.com estivesse bem . porém , se você estivesse mal , eu estaria aqui para te ajudar google.com .']\n"
     ]
    }
   ],
   "source": [
    "tweets = TextPreProcessor.remove_emojis_corpus(tweets_raw)\n",
    "print(tweets)"
   ],
   "metadata": {
    "collapsed": false,
    "ExecuteTime": {
     "start_time": "2023-04-03T12:49:16.188612Z",
     "end_time": "2023-04-03T12:49:16.217612Z"
    }
   }
  },
  {
   "cell_type": "code",
   "execution_count": 12,
   "outputs": [
    {
     "name": "stdout",
     "output_type": "stream",
     "text": [
      "['Quem combate: #monstruosidades kkkkkkkk NEGATIVE_EMOJI deve @cuidar para que não se torne um #monstro. E se @você olhar #longamente para um abismo POSITIVE_EMOJI , o abismo também olha POSITIVE_EMOJI para dentro de você. https://pt.wikiquote.org/wiki/Al%C3%A9m_do_Bem_e_do_Mal', 'POSITIVE_EMOJIPOSITIVE_EMOJIPOSITIVE_EMOJIPOSITIVE_EMOJIPOSITIVE_EMOJIPOSITIVE_EMOJINEGATIVE_EMOJINEGATIVE_EMOJINEGATIVE_EMOJINEGATIVE_EMOJINEGATIVE_EMOJINEGATIVE_EMOJI Como você está? seria bom se você www.google.com estivesse bem. porém, se você estivesse mal, eu estaria aqui para te ajudar google.com.']\n"
     ]
    }
   ],
   "source": [
    "tweets = TextPreProcessor.replace_matches_corpus(tweets_raw, patterns_dict=dict_pattern)\n",
    "print(tweets)"
   ],
   "metadata": {
    "collapsed": false,
    "ExecuteTime": {
     "start_time": "2023-04-03T12:49:16.204612Z",
     "end_time": "2023-04-03T12:49:16.282611Z"
    }
   }
  }
 ],
 "metadata": {
  "kernelspec": {
   "display_name": "Python 3",
   "language": "python",
   "name": "python3"
  },
  "language_info": {
   "codemirror_mode": {
    "name": "ipython",
    "version": 2
   },
   "file_extension": ".py",
   "mimetype": "text/x-python",
   "name": "python",
   "nbconvert_exporter": "python",
   "pygments_lexer": "ipython2",
   "version": "2.7.6"
  }
 },
 "nbformat": 4,
 "nbformat_minor": 0
}
