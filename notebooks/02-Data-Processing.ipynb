{
 "cells": [
  {
   "cell_type": "code",
   "execution_count": 1,
   "metadata": {
    "collapsed": true,
    "ExecuteTime": {
     "start_time": "2023-04-09T14:42:11.918048Z",
     "end_time": "2023-04-09T14:42:16.917030Z"
    }
   },
   "outputs": [],
   "source": [
    "import pandas as pd\n",
    "from src.processors.text_formatter import TextPreProcessor\n",
    "from src.utils.dataframe_utils import DataframeUtils"
   ]
  },
  {
   "cell_type": "code",
   "execution_count": 2,
   "outputs": [],
   "source": [
    "csv_path = \"../data/raw/Portuguese_Tweets_for_Sentiment_Analysis/data/NoThemeTweets.csv\""
   ],
   "metadata": {
    "collapsed": false,
    "ExecuteTime": {
     "start_time": "2023-04-09T14:42:16.918032Z",
     "end_time": "2023-04-09T14:42:16.950656Z"
    }
   }
  },
  {
   "cell_type": "code",
   "execution_count": 3,
   "outputs": [],
   "source": [
    "raw_df = pd.read_csv(csv_path, usecols=[\"tweet_text\", \"sentiment\"])"
   ],
   "metadata": {
    "collapsed": false,
    "ExecuteTime": {
     "start_time": "2023-04-09T14:42:16.947655Z",
     "end_time": "2023-04-09T14:42:18.245929Z"
    }
   }
  },
  {
   "cell_type": "code",
   "execution_count": 4,
   "outputs": [],
   "source": [
    "raw_df.drop_duplicates(inplace=True)"
   ],
   "metadata": {
    "collapsed": false,
    "ExecuteTime": {
     "start_time": "2023-04-09T14:42:18.245929Z",
     "end_time": "2023-04-09T14:42:18.672002Z"
    }
   }
  },
  {
   "cell_type": "code",
   "execution_count": 5,
   "outputs": [],
   "source": [
    "raw_df = raw_df.replace({\"sentiment\": {\"Positivo\": 1, \"Negativo\": 0}})"
   ],
   "metadata": {
    "collapsed": false,
    "ExecuteTime": {
     "start_time": "2023-04-09T14:42:18.661001Z",
     "end_time": "2023-04-09T14:42:18.849868Z"
    }
   }
  },
  {
   "cell_type": "code",
   "execution_count": 6,
   "outputs": [],
   "source": [
    "raw_df[\"tweet_text\"] = TextPreProcessor.lower_text_corpus(raw_df[\"tweet_text\"])"
   ],
   "metadata": {
    "collapsed": false,
    "ExecuteTime": {
     "start_time": "2023-04-09T14:42:18.850868Z",
     "end_time": "2023-04-09T14:42:19.354953Z"
    }
   }
  },
  {
   "cell_type": "code",
   "execution_count": 7,
   "outputs": [],
   "source": [
    "raw_df[\"tweet_text\"] = TextPreProcessor.remove_with_regex_corpus(raw_df[\"tweet_text\"],\n",
    "                                                                 [\"(?:https?://)?(?:www\\.)?[\\w-]+\\.[\\w.-]+[^\\s]*\",\n",
    "                                                                  \"[:;]-?[)(DPpO|/]|<3\"])"
   ],
   "metadata": {
    "collapsed": false,
    "ExecuteTime": {
     "start_time": "2023-04-09T14:42:19.355954Z",
     "end_time": "2023-04-09T14:42:26.774912Z"
    }
   }
  },
  {
   "cell_type": "code",
   "execution_count": 8,
   "outputs": [],
   "source": [
    "raw_df[\"tweet_text\"] = TextPreProcessor.remove_with_prefixes_corpus(raw_df[\"tweet_text\"], [\"@\", \"#\"])"
   ],
   "metadata": {
    "collapsed": false,
    "ExecuteTime": {
     "start_time": "2023-04-09T14:42:26.774912Z",
     "end_time": "2023-04-09T14:42:28.467358Z"
    }
   }
  },
  {
   "cell_type": "code",
   "execution_count": 9,
   "outputs": [],
   "source": [
    "raw_df[\"tweet_text\"] = TextPreProcessor.remove_emojis_corpus(raw_df[\"tweet_text\"])"
   ],
   "metadata": {
    "collapsed": false,
    "ExecuteTime": {
     "start_time": "2023-04-09T14:42:28.467358Z",
     "end_time": "2023-04-09T15:04:24.556359Z"
    }
   }
  },
  {
   "cell_type": "code",
   "execution_count": 10,
   "outputs": [],
   "source": [
    "raw_df[\"tweet_text\"] = TextPreProcessor.remove_punctuation_corpus(raw_df[\"tweet_text\"])"
   ],
   "metadata": {
    "collapsed": false,
    "ExecuteTime": {
     "start_time": "2023-04-09T15:04:24.556359Z",
     "end_time": "2023-04-09T15:26:22.326739Z"
    }
   }
  },
  {
   "cell_type": "code",
   "execution_count": 11,
   "outputs": [],
   "source": [
    "raw_df = DataframeUtils.remove_by_text_len(raw_df, \"tweet_text\")"
   ],
   "metadata": {
    "collapsed": false,
    "ExecuteTime": {
     "start_time": "2023-04-09T15:26:22.327736Z",
     "end_time": "2023-04-09T15:26:22.944847Z"
    }
   }
  },
  {
   "cell_type": "code",
   "execution_count": 12,
   "outputs": [],
   "source": [
    "raw_df[\"tweet_text_lemma\"] = TextPreProcessor.lemmatization_corpus(raw_df[\"tweet_text\"])"
   ],
   "metadata": {
    "collapsed": false,
    "ExecuteTime": {
     "start_time": "2023-04-09T15:26:22.944847Z",
     "end_time": "2023-04-09T15:45:44.952157Z"
    }
   }
  },
  {
   "cell_type": "code",
   "execution_count": 13,
   "outputs": [],
   "source": [
    "raw_df[\"tweet_text_steam\"] = TextPreProcessor.steaming_corpus(raw_df[\"tweet_text\"])"
   ],
   "metadata": {
    "collapsed": false,
    "ExecuteTime": {
     "start_time": "2023-04-09T15:45:44.955172Z",
     "end_time": "2023-04-09T15:52:24.161718Z"
    }
   }
  },
  {
   "cell_type": "code",
   "execution_count": 14,
   "outputs": [],
   "source": [
    "raw_df[\"tweet_text_without_stopwords\"] = TextPreProcessor.remove_stopwords_corpus(raw_df[\"tweet_text\"])"
   ],
   "metadata": {
    "collapsed": false,
    "ExecuteTime": {
     "start_time": "2023-04-09T15:52:24.164232Z",
     "end_time": "2023-04-09T16:12:23.377843Z"
    }
   }
  },
  {
   "cell_type": "code",
   "execution_count": 15,
   "outputs": [],
   "source": [
    "raw_df[\"tweet_text_without_stopwords_lemma\"] = TextPreProcessor.lemmatization_corpus(\n",
    "    raw_df[\"tweet_text_without_stopwords\"])"
   ],
   "metadata": {
    "collapsed": false,
    "ExecuteTime": {
     "start_time": "2023-04-09T16:12:23.376844Z",
     "end_time": "2023-04-09T16:29:58.007178Z"
    }
   }
  },
  {
   "cell_type": "code",
   "execution_count": 16,
   "outputs": [],
   "source": [
    "raw_df[\"tweet_text_without_stopwords_steam\"] = TextPreProcessor.steaming_corpus(raw_df[\"tweet_text_without_stopwords\"])"
   ],
   "metadata": {
    "collapsed": false,
    "ExecuteTime": {
     "start_time": "2023-04-09T16:29:58.009177Z",
     "end_time": "2023-04-09T16:35:11.143082Z"
    }
   }
  },
  {
   "cell_type": "code",
   "execution_count": 17,
   "outputs": [],
   "source": [
    "raw_df = raw_df[['tweet_text', 'tweet_text_lemma',\n",
    "                 'tweet_text_steam', 'tweet_text_without_stopwords',\n",
    "                 'tweet_text_without_stopwords_lemma',\n",
    "                 'tweet_text_without_stopwords_steam', 'sentiment', 'number_words']].reset_index(drop=True)"
   ],
   "metadata": {
    "collapsed": false,
    "ExecuteTime": {
     "start_time": "2023-04-09T16:35:11.145082Z",
     "end_time": "2023-04-09T16:35:11.693720Z"
    }
   }
  },
  {
   "cell_type": "code",
   "execution_count": 18,
   "outputs": [],
   "source": [
    "raw_df.to_csv(\"../data/processed/NoThemeTweets_processed.csv\")"
   ],
   "metadata": {
    "collapsed": false,
    "ExecuteTime": {
     "start_time": "2023-04-09T16:35:11.694721Z",
     "end_time": "2023-04-09T16:35:16.055043Z"
    }
   }
  },
  {
   "cell_type": "code",
   "execution_count": 20,
   "outputs": [],
   "source": [
    "raw_df.to_csv(\"../data/processed/NoThemeTweets_processed.csv\")"
   ],
   "metadata": {
    "collapsed": false,
    "ExecuteTime": {
     "start_time": "2023-04-09T16:35:16.087187Z",
     "end_time": "2023-04-09T16:35:20.592948Z"
    }
   }
  },
  {
   "cell_type": "code",
   "execution_count": 21,
   "outputs": [],
   "source": [
    "raw_df = DataframeUtils.undersampling_df(raw_df, \"sentiment\")"
   ],
   "metadata": {
    "collapsed": false,
    "ExecuteTime": {
     "start_time": "2023-04-09T16:35:20.592948Z",
     "end_time": "2023-04-09T16:35:21.065856Z"
    }
   }
  },
  {
   "cell_type": "code",
   "execution_count": 22,
   "outputs": [],
   "source": [
    "raw_df.to_csv(\"../data/processed/NoThemeTweets_processed_undersampled.csv\")"
   ],
   "metadata": {
    "collapsed": false,
    "ExecuteTime": {
     "start_time": "2023-04-09T16:35:21.066858Z",
     "end_time": "2023-04-09T16:35:24.824789Z"
    }
   }
  }
 ],
 "metadata": {
  "kernelspec": {
   "display_name": "Python 3",
   "language": "python",
   "name": "python3"
  },
  "language_info": {
   "codemirror_mode": {
    "name": "ipython",
    "version": 2
   },
   "file_extension": ".py",
   "mimetype": "text/x-python",
   "name": "python",
   "nbconvert_exporter": "python",
   "pygments_lexer": "ipython2",
   "version": "2.7.6"
  }
 },
 "nbformat": 4,
 "nbformat_minor": 0
}
